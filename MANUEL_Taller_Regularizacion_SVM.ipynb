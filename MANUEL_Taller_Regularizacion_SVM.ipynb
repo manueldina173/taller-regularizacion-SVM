{
  "nbformat": 4,
  "nbformat_minor": 0,
  "metadata": {
    "kernelspec": {
      "display_name": "Python 3",
      "language": "python",
      "name": "python3"
    },
    "language_info": {
      "codemirror_mode": {
        "name": "ipython",
        "version": 3
      },
      "file_extension": ".py",
      "mimetype": "text/x-python",
      "name": "python",
      "nbconvert_exporter": "python",
      "pygments_lexer": "ipython3",
      "version": "3.7.0"
    },
    "colab": {
      "provenance": [],
      "collapsed_sections": [
        "ijwzlA_FQwHq",
        "v2kdBq6RQwIA",
        "V_mBGZY-QwIC"
      ]
    }
  },
  "cells": [
    {
      "cell_type": "markdown",
      "metadata": {
        "id": "goh8XqyWQwHS"
      },
      "source": [
        "## Taller Regularización y SVM\n",
        "\n",
        "\n",
        "Para esta tarea consideramos un conjunto de observaciones sobre una serie de variedades de vino tinto y blanco que implican sus propiedades químicas y su clasificación por parte de los catadores. La industria del vino ha experimentado un gran crecimiento en los últimos tiempos debido al aumento del consumo social. El precio del vino depende de un concepto bastante abstracto de apreciación del vino por parte de los catadores, cuya opinión puede tener un alto grado de variabilidad. El precio del vino depende en cierta medida de este factor tan volátil. Otro factor clave en la certificación y evaluación de la calidad del vino son las pruebas fisicoquímicas, que se realizan en laboratorio y tienen en cuenta factores como la acidez, el nivel de pH, la presencia de azúcar y otras propiedades químicas. Para el mercado del vino, sería interesante que la calidad humana de la cata pudiera relacionarse con las propiedades químicas del vino para que el proceso de certificación y evaluación de la calidad estuviera más controlado.\n",
        "\n",
        "Se dispone de dos conjuntos de datos, uno de los cuales se refiere al vino tinto y cuenta con 1.599 variedades diferentes, y el otro, al vino blanco, con 4.898 variedades. Todos los vinos se producen en una zona concreta de Portugal. Se recogen datos sobre 12 propiedades diferentes de los vinos, una de las cuales es la calidad, basada en datos sensoriales, y el resto son propiedades químicas de los vinos, como la densidad, la acidez, el contenido de alcohol, etc. Todas las propiedades químicas de los vinos son variables continuas. La calidad es una variable ordinal con una clasificación posible de 1 (peor) a 10 (mejor). Cada variedad de vino es catada por tres catadores independientes y la clasificación final asignada es la mediana de la clasificación dada por los catadores.\n",
        "\n",
        "Se espera que un modelo predictivo desarrollado a partir de estos datos sirva de orientación a los viñedos en cuanto a la calidad y el precio que se espera obtener de sus productos sin depender en gran medida de la volatilidad de los catadores.\n"
      ]
    },
    {
      "cell_type": "code",
      "metadata": {
        "id": "m4dAFqRiQwHd"
      },
      "source": [
        "import pandas as pd\n",
        "import numpy as np\n",
        "import matplotlib as plt\n",
        "import matplotlib.pyplot as plt\n",
        "from plotnine import *\n",
        "from sklearn.model_selection import train_test_split\n",
        "from sklearn.linear_model import LinearRegression\n",
        "from sklearn import metrics\n",
        "from sklearn.linear_model import Ridge\n",
        "from sklearn.linear_model import RidgeCV\n",
        "from sklearn.linear_model import Lasso\n",
        "import warnings\n",
        "warnings.filterwarnings('ignore')\n",
        "from sklearn.linear_model import LassoCV\n",
        "from sklearn.preprocessing import StandardScaler\n",
        "from sklearn.linear_model import LogisticRegression\n",
        "from sklearn.metrics import roc_auc_score, accuracy_score, make_scorer, roc_curve, auc\n",
        "from scipy import stats\n",
        "import seaborn as sns\n",
        "from sklearn.datasets.samples_generator import make_blobs\n",
        "from sklearn import preprocessing, metrics, model_selection\n",
        "from sklearn.preprocessing import label_binarize\n",
        "from sklearn.model_selection import GridSearchCV\n",
        "from sklearn import svm\n",
        "from sklearn.svm import SVC"
      ],
      "execution_count": null,
      "outputs": []
    },
    {
      "cell_type": "code",
      "metadata": {
        "id": "j0S8ZSeuQwHh"
      },
      "source": [
        "data_r = pd.read_csv('https://github.com/albahnsen/PracticalMachineLearningClass/raw/master/datasets/Wine_data_red.csv')\n",
        "data_w = pd.read_csv('https://github.com/albahnsen/PracticalMachineLearningClass/raw/master/datasets/Wine_data_white.csv')"
      ],
      "execution_count": null,
      "outputs": []
    },
    {
      "cell_type": "code",
      "metadata": {
        "colab": {
          "base_uri": "https://localhost:8080/",
          "height": 129
        },
        "id": "PYuXNGN1MxOR",
        "outputId": "e1a32311-4c33-4390-d383-ceda99bbba99"
      },
      "source": [
        "data_r.head(2)"
      ],
      "execution_count": null,
      "outputs": [
        {
          "output_type": "execute_result",
          "data": {
            "text/html": [
              "<div>\n",
              "<style scoped>\n",
              "    .dataframe tbody tr th:only-of-type {\n",
              "        vertical-align: middle;\n",
              "    }\n",
              "\n",
              "    .dataframe tbody tr th {\n",
              "        vertical-align: top;\n",
              "    }\n",
              "\n",
              "    .dataframe thead th {\n",
              "        text-align: right;\n",
              "    }\n",
              "</style>\n",
              "<table border=\"1\" class=\"dataframe\">\n",
              "  <thead>\n",
              "    <tr style=\"text-align: right;\">\n",
              "      <th></th>\n",
              "      <th>fixed acidity</th>\n",
              "      <th>volatile acidity</th>\n",
              "      <th>citric acid</th>\n",
              "      <th>residual sugar</th>\n",
              "      <th>chlorides</th>\n",
              "      <th>free sulfur dioxide</th>\n",
              "      <th>total sulfur dioxide</th>\n",
              "      <th>density</th>\n",
              "      <th>pH</th>\n",
              "      <th>sulphates</th>\n",
              "      <th>alcohol</th>\n",
              "      <th>quality</th>\n",
              "    </tr>\n",
              "  </thead>\n",
              "  <tbody>\n",
              "    <tr>\n",
              "      <th>0</th>\n",
              "      <td>7.4</td>\n",
              "      <td>0.70</td>\n",
              "      <td>0.0</td>\n",
              "      <td>1.9</td>\n",
              "      <td>0.076</td>\n",
              "      <td>11.0</td>\n",
              "      <td>34.0</td>\n",
              "      <td>0.9978</td>\n",
              "      <td>3.51</td>\n",
              "      <td>0.56</td>\n",
              "      <td>9.4</td>\n",
              "      <td>5</td>\n",
              "    </tr>\n",
              "    <tr>\n",
              "      <th>1</th>\n",
              "      <td>7.8</td>\n",
              "      <td>0.88</td>\n",
              "      <td>0.0</td>\n",
              "      <td>2.6</td>\n",
              "      <td>0.098</td>\n",
              "      <td>25.0</td>\n",
              "      <td>67.0</td>\n",
              "      <td>0.9968</td>\n",
              "      <td>3.20</td>\n",
              "      <td>0.68</td>\n",
              "      <td>9.8</td>\n",
              "      <td>5</td>\n",
              "    </tr>\n",
              "  </tbody>\n",
              "</table>\n",
              "</div>"
            ],
            "text/plain": [
              "   fixed acidity  volatile acidity  citric acid  ...  sulphates  alcohol  quality\n",
              "0            7.4              0.70          0.0  ...       0.56      9.4        5\n",
              "1            7.8              0.88          0.0  ...       0.68      9.8        5\n",
              "\n",
              "[2 rows x 12 columns]"
            ]
          },
          "metadata": {},
          "execution_count": 4
        }
      ]
    },
    {
      "cell_type": "code",
      "metadata": {
        "colab": {
          "base_uri": "https://localhost:8080/",
          "height": 129
        },
        "id": "IZk3h5rAM1sU",
        "outputId": "33859bb8-09f5-46cf-fdaa-566ac35c4021"
      },
      "source": [
        "data_w.head(2)"
      ],
      "execution_count": null,
      "outputs": [
        {
          "output_type": "execute_result",
          "data": {
            "text/html": [
              "<div>\n",
              "<style scoped>\n",
              "    .dataframe tbody tr th:only-of-type {\n",
              "        vertical-align: middle;\n",
              "    }\n",
              "\n",
              "    .dataframe tbody tr th {\n",
              "        vertical-align: top;\n",
              "    }\n",
              "\n",
              "    .dataframe thead th {\n",
              "        text-align: right;\n",
              "    }\n",
              "</style>\n",
              "<table border=\"1\" class=\"dataframe\">\n",
              "  <thead>\n",
              "    <tr style=\"text-align: right;\">\n",
              "      <th></th>\n",
              "      <th>fixed acidity</th>\n",
              "      <th>volatile acidity</th>\n",
              "      <th>citric acid</th>\n",
              "      <th>residual sugar</th>\n",
              "      <th>chlorides</th>\n",
              "      <th>free sulfur dioxide</th>\n",
              "      <th>total sulfur dioxide</th>\n",
              "      <th>density</th>\n",
              "      <th>pH</th>\n",
              "      <th>sulphates</th>\n",
              "      <th>alcohol</th>\n",
              "      <th>quality</th>\n",
              "    </tr>\n",
              "  </thead>\n",
              "  <tbody>\n",
              "    <tr>\n",
              "      <th>0</th>\n",
              "      <td>7.0</td>\n",
              "      <td>0.27</td>\n",
              "      <td>0.36</td>\n",
              "      <td>20.7</td>\n",
              "      <td>0.045</td>\n",
              "      <td>45.0</td>\n",
              "      <td>170.0</td>\n",
              "      <td>1.001</td>\n",
              "      <td>3.0</td>\n",
              "      <td>0.45</td>\n",
              "      <td>8.8</td>\n",
              "      <td>6</td>\n",
              "    </tr>\n",
              "    <tr>\n",
              "      <th>1</th>\n",
              "      <td>6.3</td>\n",
              "      <td>0.30</td>\n",
              "      <td>0.34</td>\n",
              "      <td>1.6</td>\n",
              "      <td>0.049</td>\n",
              "      <td>14.0</td>\n",
              "      <td>132.0</td>\n",
              "      <td>0.994</td>\n",
              "      <td>3.3</td>\n",
              "      <td>0.49</td>\n",
              "      <td>9.5</td>\n",
              "      <td>6</td>\n",
              "    </tr>\n",
              "  </tbody>\n",
              "</table>\n",
              "</div>"
            ],
            "text/plain": [
              "   fixed acidity  volatile acidity  citric acid  ...  sulphates  alcohol  quality\n",
              "0            7.0              0.27         0.36  ...       0.45      8.8        6\n",
              "1            6.3              0.30         0.34  ...       0.49      9.5        6\n",
              "\n",
              "[2 rows x 12 columns]"
            ]
          },
          "metadata": {},
          "execution_count": 5
        }
      ]
    },
    {
      "cell_type": "code",
      "metadata": {
        "colab": {
          "base_uri": "https://localhost:8080/",
          "height": 129
        },
        "id": "zL6G49RMQwHl",
        "outputId": "590a07db-c903-4e6f-b4a0-39934f1507f8"
      },
      "source": [
        "data = data_w.assign(type = 'white')\n",
        "data = data.append(data_r.assign(type = 'red'), ignore_index=True)\n",
        "data.sample(2)"
      ],
      "execution_count": null,
      "outputs": [
        {
          "output_type": "execute_result",
          "data": {
            "text/html": [
              "<div>\n",
              "<style scoped>\n",
              "    .dataframe tbody tr th:only-of-type {\n",
              "        vertical-align: middle;\n",
              "    }\n",
              "\n",
              "    .dataframe tbody tr th {\n",
              "        vertical-align: top;\n",
              "    }\n",
              "\n",
              "    .dataframe thead th {\n",
              "        text-align: right;\n",
              "    }\n",
              "</style>\n",
              "<table border=\"1\" class=\"dataframe\">\n",
              "  <thead>\n",
              "    <tr style=\"text-align: right;\">\n",
              "      <th></th>\n",
              "      <th>fixed acidity</th>\n",
              "      <th>volatile acidity</th>\n",
              "      <th>citric acid</th>\n",
              "      <th>residual sugar</th>\n",
              "      <th>chlorides</th>\n",
              "      <th>free sulfur dioxide</th>\n",
              "      <th>total sulfur dioxide</th>\n",
              "      <th>density</th>\n",
              "      <th>pH</th>\n",
              "      <th>sulphates</th>\n",
              "      <th>alcohol</th>\n",
              "      <th>quality</th>\n",
              "      <th>type</th>\n",
              "    </tr>\n",
              "  </thead>\n",
              "  <tbody>\n",
              "    <tr>\n",
              "      <th>1248</th>\n",
              "      <td>7.2</td>\n",
              "      <td>0.18</td>\n",
              "      <td>0.31</td>\n",
              "      <td>1.10</td>\n",
              "      <td>0.045</td>\n",
              "      <td>20.0</td>\n",
              "      <td>73.0</td>\n",
              "      <td>0.99250</td>\n",
              "      <td>3.32</td>\n",
              "      <td>0.40</td>\n",
              "      <td>10.8</td>\n",
              "      <td>7</td>\n",
              "      <td>white</td>\n",
              "    </tr>\n",
              "    <tr>\n",
              "      <th>3024</th>\n",
              "      <td>7.0</td>\n",
              "      <td>0.13</td>\n",
              "      <td>0.37</td>\n",
              "      <td>12.85</td>\n",
              "      <td>0.042</td>\n",
              "      <td>36.0</td>\n",
              "      <td>105.0</td>\n",
              "      <td>0.99581</td>\n",
              "      <td>3.05</td>\n",
              "      <td>0.55</td>\n",
              "      <td>10.7</td>\n",
              "      <td>6</td>\n",
              "      <td>white</td>\n",
              "    </tr>\n",
              "  </tbody>\n",
              "</table>\n",
              "</div>"
            ],
            "text/plain": [
              "      fixed acidity  volatile acidity  citric acid  ...  alcohol  quality   type\n",
              "1248            7.2              0.18         0.31  ...     10.8        7  white\n",
              "3024            7.0              0.13         0.37  ...     10.7        6  white\n",
              "\n",
              "[2 rows x 13 columns]"
            ]
          },
          "metadata": {},
          "execution_count": 6
        }
      ]
    },
    {
      "cell_type": "code",
      "metadata": {
        "colab": {
          "base_uri": "https://localhost:8080/"
        },
        "id": "KFD4kAHnA6CI",
        "outputId": "0d3c0cee-f485-4d64-d08d-b5a6150b5793"
      },
      "source": [
        "data.shape"
      ],
      "execution_count": null,
      "outputs": [
        {
          "output_type": "execute_result",
          "data": {
            "text/plain": [
              "(6497, 13)"
            ]
          },
          "metadata": {},
          "execution_count": 14
        }
      ]
    },
    {
      "cell_type": "code",
      "metadata": {
        "id": "LMqSD8m1P9ng",
        "colab": {
          "base_uri": "https://localhost:8080/",
          "height": 268
        },
        "outputId": "c5a74d89-e4dd-4b59-ee44-0a631bd1839b"
      },
      "source": [
        "tab_quality = data['quality'].value_counts().rename_axis('Calidad').reset_index(name='Cantidad')\n",
        "tab_quality"
      ],
      "execution_count": null,
      "outputs": [
        {
          "output_type": "execute_result",
          "data": {
            "text/html": [
              "<div>\n",
              "<style scoped>\n",
              "    .dataframe tbody tr th:only-of-type {\n",
              "        vertical-align: middle;\n",
              "    }\n",
              "\n",
              "    .dataframe tbody tr th {\n",
              "        vertical-align: top;\n",
              "    }\n",
              "\n",
              "    .dataframe thead th {\n",
              "        text-align: right;\n",
              "    }\n",
              "</style>\n",
              "<table border=\"1\" class=\"dataframe\">\n",
              "  <thead>\n",
              "    <tr style=\"text-align: right;\">\n",
              "      <th></th>\n",
              "      <th>Calidad</th>\n",
              "      <th>Cantidad</th>\n",
              "    </tr>\n",
              "  </thead>\n",
              "  <tbody>\n",
              "    <tr>\n",
              "      <th>0</th>\n",
              "      <td>6</td>\n",
              "      <td>2836</td>\n",
              "    </tr>\n",
              "    <tr>\n",
              "      <th>1</th>\n",
              "      <td>5</td>\n",
              "      <td>2138</td>\n",
              "    </tr>\n",
              "    <tr>\n",
              "      <th>2</th>\n",
              "      <td>7</td>\n",
              "      <td>1079</td>\n",
              "    </tr>\n",
              "    <tr>\n",
              "      <th>3</th>\n",
              "      <td>4</td>\n",
              "      <td>216</td>\n",
              "    </tr>\n",
              "    <tr>\n",
              "      <th>4</th>\n",
              "      <td>8</td>\n",
              "      <td>193</td>\n",
              "    </tr>\n",
              "    <tr>\n",
              "      <th>5</th>\n",
              "      <td>3</td>\n",
              "      <td>30</td>\n",
              "    </tr>\n",
              "    <tr>\n",
              "      <th>6</th>\n",
              "      <td>9</td>\n",
              "      <td>5</td>\n",
              "    </tr>\n",
              "  </tbody>\n",
              "</table>\n",
              "</div>"
            ],
            "text/plain": [
              "   Calidad  Cantidad\n",
              "0        6      2836\n",
              "1        5      2138\n",
              "2        7      1079\n",
              "3        4       216\n",
              "4        8       193\n",
              "5        3        30\n",
              "6        9         5"
            ]
          },
          "metadata": {},
          "execution_count": 8
        }
      ]
    },
    {
      "cell_type": "code",
      "metadata": {
        "id": "rh5J3KitOiF4",
        "colab": {
          "base_uri": "https://localhost:8080/",
          "height": 112
        },
        "outputId": "1e576dd7-f0fc-4ba8-cd1c-0dec779c247e"
      },
      "source": [
        "tab_type = data['type'].value_counts().rename_axis('Tipo').reset_index(name='Cantidad')\n",
        "tab_type"
      ],
      "execution_count": null,
      "outputs": [
        {
          "output_type": "execute_result",
          "data": {
            "text/html": [
              "<div>\n",
              "<style scoped>\n",
              "    .dataframe tbody tr th:only-of-type {\n",
              "        vertical-align: middle;\n",
              "    }\n",
              "\n",
              "    .dataframe tbody tr th {\n",
              "        vertical-align: top;\n",
              "    }\n",
              "\n",
              "    .dataframe thead th {\n",
              "        text-align: right;\n",
              "    }\n",
              "</style>\n",
              "<table border=\"1\" class=\"dataframe\">\n",
              "  <thead>\n",
              "    <tr style=\"text-align: right;\">\n",
              "      <th></th>\n",
              "      <th>Tipo</th>\n",
              "      <th>Cantidad</th>\n",
              "    </tr>\n",
              "  </thead>\n",
              "  <tbody>\n",
              "    <tr>\n",
              "      <th>0</th>\n",
              "      <td>white</td>\n",
              "      <td>4898</td>\n",
              "    </tr>\n",
              "    <tr>\n",
              "      <th>1</th>\n",
              "      <td>red</td>\n",
              "      <td>1599</td>\n",
              "    </tr>\n",
              "  </tbody>\n",
              "</table>\n",
              "</div>"
            ],
            "text/plain": [
              "    Tipo  Cantidad\n",
              "0  white      4898\n",
              "1    red      1599"
            ]
          },
          "metadata": {},
          "execution_count": 9
        }
      ]
    },
    {
      "cell_type": "markdown",
      "metadata": {
        "id": "ijwzlA_FQwHq"
      },
      "source": [
        "# Ejercicio 1\n",
        "\n",
        "Mostrar la tabla de frecuencias de la calidad por tipo de vino."
      ]
    },
    {
      "cell_type": "code",
      "metadata": {
        "id": "KnOJ6UF6swZX",
        "colab": {
          "base_uri": "https://localhost:8080/",
          "height": 175
        },
        "outputId": "c916fbc6-b522-4393-cc4f-591fea16c711"
      },
      "source": [
        "pd.crosstab(index=data['type'],columns=data['quality'], margins=True)"
      ],
      "execution_count": null,
      "outputs": [
        {
          "output_type": "execute_result",
          "data": {
            "text/html": [
              "<div>\n",
              "<style scoped>\n",
              "    .dataframe tbody tr th:only-of-type {\n",
              "        vertical-align: middle;\n",
              "    }\n",
              "\n",
              "    .dataframe tbody tr th {\n",
              "        vertical-align: top;\n",
              "    }\n",
              "\n",
              "    .dataframe thead th {\n",
              "        text-align: right;\n",
              "    }\n",
              "</style>\n",
              "<table border=\"1\" class=\"dataframe\">\n",
              "  <thead>\n",
              "    <tr style=\"text-align: right;\">\n",
              "      <th>quality</th>\n",
              "      <th>3</th>\n",
              "      <th>4</th>\n",
              "      <th>5</th>\n",
              "      <th>6</th>\n",
              "      <th>7</th>\n",
              "      <th>8</th>\n",
              "      <th>9</th>\n",
              "      <th>All</th>\n",
              "    </tr>\n",
              "    <tr>\n",
              "      <th>type</th>\n",
              "      <th></th>\n",
              "      <th></th>\n",
              "      <th></th>\n",
              "      <th></th>\n",
              "      <th></th>\n",
              "      <th></th>\n",
              "      <th></th>\n",
              "      <th></th>\n",
              "    </tr>\n",
              "  </thead>\n",
              "  <tbody>\n",
              "    <tr>\n",
              "      <th>red</th>\n",
              "      <td>10</td>\n",
              "      <td>53</td>\n",
              "      <td>681</td>\n",
              "      <td>638</td>\n",
              "      <td>199</td>\n",
              "      <td>18</td>\n",
              "      <td>0</td>\n",
              "      <td>1599</td>\n",
              "    </tr>\n",
              "    <tr>\n",
              "      <th>white</th>\n",
              "      <td>20</td>\n",
              "      <td>163</td>\n",
              "      <td>1457</td>\n",
              "      <td>2198</td>\n",
              "      <td>880</td>\n",
              "      <td>175</td>\n",
              "      <td>5</td>\n",
              "      <td>4898</td>\n",
              "    </tr>\n",
              "    <tr>\n",
              "      <th>All</th>\n",
              "      <td>30</td>\n",
              "      <td>216</td>\n",
              "      <td>2138</td>\n",
              "      <td>2836</td>\n",
              "      <td>1079</td>\n",
              "      <td>193</td>\n",
              "      <td>5</td>\n",
              "      <td>6497</td>\n",
              "    </tr>\n",
              "  </tbody>\n",
              "</table>\n",
              "</div>"
            ],
            "text/plain": [
              "quality   3    4     5     6     7    8  9   All\n",
              "type                                            \n",
              "red      10   53   681   638   199   18  0  1599\n",
              "white    20  163  1457  2198   880  175  5  4898\n",
              "All      30  216  2138  2836  1079  193  5  6497"
            ]
          },
          "metadata": {},
          "execution_count": 11
        }
      ]
    },
    {
      "cell_type": "markdown",
      "metadata": {
        "id": "vchxRubOQwH_"
      },
      "source": [
        "# Regularización"
      ]
    },
    {
      "cell_type": "markdown",
      "metadata": {
        "id": "v2kdBq6RQwIA"
      },
      "source": [
        "# Ejercicio 2\n",
        "\n",
        "* Entrenar una regresión lineal para predecir la calidad del vino (Continuo)\n",
        "\n",
        "* Analice los coeficientes\n",
        "\n",
        "* Evaluar el RMSE"
      ]
    },
    {
      "cell_type": "code",
      "metadata": {
        "colab": {
          "base_uri": "https://localhost:8080/",
          "height": 129
        },
        "id": "RKlymHBq5MB-",
        "outputId": "75847e54-bbb9-4fb5-8989-7a28532cb73d"
      },
      "source": [
        "# 0: vino blanco y 1: vino tinto, para poder integrar la variable en el modelo\n",
        "data['type'] = data.type.map({'white':0,'red':1})\n",
        "data.head(2)"
      ],
      "execution_count": null,
      "outputs": [
        {
          "output_type": "execute_result",
          "data": {
            "text/html": [
              "<div>\n",
              "<style scoped>\n",
              "    .dataframe tbody tr th:only-of-type {\n",
              "        vertical-align: middle;\n",
              "    }\n",
              "\n",
              "    .dataframe tbody tr th {\n",
              "        vertical-align: top;\n",
              "    }\n",
              "\n",
              "    .dataframe thead th {\n",
              "        text-align: right;\n",
              "    }\n",
              "</style>\n",
              "<table border=\"1\" class=\"dataframe\">\n",
              "  <thead>\n",
              "    <tr style=\"text-align: right;\">\n",
              "      <th></th>\n",
              "      <th>fixed acidity</th>\n",
              "      <th>volatile acidity</th>\n",
              "      <th>citric acid</th>\n",
              "      <th>residual sugar</th>\n",
              "      <th>chlorides</th>\n",
              "      <th>free sulfur dioxide</th>\n",
              "      <th>total sulfur dioxide</th>\n",
              "      <th>density</th>\n",
              "      <th>pH</th>\n",
              "      <th>sulphates</th>\n",
              "      <th>alcohol</th>\n",
              "      <th>quality</th>\n",
              "      <th>type</th>\n",
              "    </tr>\n",
              "  </thead>\n",
              "  <tbody>\n",
              "    <tr>\n",
              "      <th>0</th>\n",
              "      <td>7.0</td>\n",
              "      <td>0.27</td>\n",
              "      <td>0.36</td>\n",
              "      <td>20.7</td>\n",
              "      <td>0.045</td>\n",
              "      <td>45.0</td>\n",
              "      <td>170.0</td>\n",
              "      <td>1.001</td>\n",
              "      <td>3.0</td>\n",
              "      <td>0.45</td>\n",
              "      <td>8.8</td>\n",
              "      <td>6</td>\n",
              "      <td>0</td>\n",
              "    </tr>\n",
              "    <tr>\n",
              "      <th>1</th>\n",
              "      <td>6.3</td>\n",
              "      <td>0.30</td>\n",
              "      <td>0.34</td>\n",
              "      <td>1.6</td>\n",
              "      <td>0.049</td>\n",
              "      <td>14.0</td>\n",
              "      <td>132.0</td>\n",
              "      <td>0.994</td>\n",
              "      <td>3.3</td>\n",
              "      <td>0.49</td>\n",
              "      <td>9.5</td>\n",
              "      <td>6</td>\n",
              "      <td>0</td>\n",
              "    </tr>\n",
              "  </tbody>\n",
              "</table>\n",
              "</div>"
            ],
            "text/plain": [
              "   fixed acidity  volatile acidity  citric acid  ...  alcohol  quality  type\n",
              "0            7.0              0.27         0.36  ...      8.8        6     0\n",
              "1            6.3              0.30         0.34  ...      9.5        6     0\n",
              "\n",
              "[2 rows x 13 columns]"
            ]
          },
          "metadata": {},
          "execution_count": 12
        }
      ]
    },
    {
      "cell_type": "code",
      "metadata": {
        "colab": {
          "base_uri": "https://localhost:8080/"
        },
        "id": "J5XSyHtvCGmd",
        "outputId": "149394cf-c07f-43a2-8724-ad6f30e91af1"
      },
      "source": [
        "X = data.drop(['quality'], axis =1 )\n",
        "Y = data['quality']\n",
        "\n",
        "X_train, X_test, Y_train, Y_test = train_test_split(X, Y, test_size=0.20, random_state=1234)\n",
        "\n",
        "modelo = LinearRegression()\n",
        "modelo.fit(X_train, Y_train)\n",
        "\n",
        "print(modelo.intercept_)\n",
        "coeficientes_modelo = pd.DataFrame(modelo.coef_, columns =[\"Coeficientes\"])\n",
        "coeficientes_modelo.index =  [\"fixed acidity\", \"volatile acidity\", \"citric acid\",\n",
        "                              \"residual sugar\", \"chlorides\", \"free sulfur dioxide\", \"total sulfur dioxide\",\n",
        "                              \"density\", \"pH\", \"sulphates\", \"alcohol\", \"type\"]\n",
        "print('Los coeficientes del modelo son:',coeficientes_modelo)\n",
        "print(modelo.score(X,Y))\n",
        "\n",
        "Y_predic = modelo.predict(X_test)\n",
        "Y_pred = np.around(Y_predic)\n",
        "\n",
        "print(\"El RMSE del modelo es: \",np.sqrt(metrics.mean_squared_error(Y_test, Y_pred)))"
      ],
      "execution_count": null,
      "outputs": [
        {
          "output_type": "stream",
          "name": "stdout",
          "text": [
            "100.60008348954668\n",
            "Los coeficientes del modelo son:                       Coeficientes\n",
            "fixed acidity             0.082870\n",
            "volatile acidity         -1.481117\n",
            "citric acid              -0.035535\n",
            "residual sugar            0.060525\n",
            "chlorides                -0.742306\n",
            "free sulfur dioxide       0.004510\n",
            "total sulfur dioxide     -0.001266\n",
            "density                -100.095794\n",
            "pH                        0.478051\n",
            "sulphates                 0.722681\n",
            "alcohol                   0.230528\n",
            "type                      0.341976\n",
            "0.2963647406991581\n",
            "El RMSE del modelo es:  0.7922703501282297\n"
          ]
        }
      ]
    },
    {
      "cell_type": "markdown",
      "metadata": {
        "id": "a3xEew6dHk_I"
      },
      "source": [
        "*Los coeficientes Bi del modelo miden el cambio en la calidad del vino (variale Y) por cada cambio unitario en los atributos (variables Xi), entonces, se observa que el modelo en cuestion le da mayor peso a las variables \"pH\",\"sulphates\",\"alcohol\", y \"type\" con coeficientes 0.51, 0.69, 0.21, y 0.41 respectivamente, es decir, al aumentar una unidad en estas variables, la calidad del vino aumenta las mencionadas cantidades de Bi, entonces se puede decir que estas son las variables encargadas de incrementar la calidad del vino. Por otra parte, si los valores de los Bi -1.53, -0.13 y -109.7 que acompañan a las variables \"volatile acidity\", \"citric acid\", \"chlorides\" y \"density\" respectivamente, disminuyen, la calidad del vino tambien va a disminuir. Estas conclusiones parten teniendo en cuenta que para cada variable se asume como contantes las demas.*"
      ]
    },
    {
      "cell_type": "code",
      "metadata": {
        "colab": {
          "base_uri": "https://localhost:8080/"
        },
        "id": "atjJ-3TGEkte",
        "outputId": "ee909851-1135-4555-a340-73b987f86947"
      },
      "source": [
        "print(\"El RMSE del modelo es: \",np.sqrt(metrics.mean_squared_error(Y_test, Y_pred)))"
      ],
      "execution_count": null,
      "outputs": [
        {
          "output_type": "stream",
          "name": "stdout",
          "text": [
            "El RMSE del modelo es:  0.7883771061734742\n"
          ]
        }
      ]
    },
    {
      "cell_type": "markdown",
      "metadata": {
        "id": "MnpQnfXcziB6"
      },
      "source": [
        "*Se aprecio un valor muy alto de RMSE, esto indica que el modelo no tiene un buen ajuste y por lo tanto no genera una buena prediccion de la variable Y (quality).*"
      ]
    },
    {
      "cell_type": "markdown",
      "metadata": {
        "id": "V_mBGZY-QwIC"
      },
      "source": [
        "# Ejercicio 3\n",
        "\n",
        "* Estimar una regresión de Ridge con alfa igual a 0,1 y 1.\n",
        "* Compare y analice los coeficientes de Ridge con la regresión lineal\n",
        "* Evaluar el RMSE"
      ]
    },
    {
      "cell_type": "code",
      "metadata": {
        "colab": {
          "base_uri": "https://localhost:8080/"
        },
        "id": "C7i53xYfz_oo",
        "outputId": "662249c0-df93-4d69-cbfe-0eba555a73a6"
      },
      "source": [
        "X = data.drop(['quality'], axis =1 )\n",
        "Y = data['quality']\n",
        "\n",
        "X_train, X_test, Y_train, Y_test = train_test_split(X, Y, test_size=0.20, random_state=1234)\n",
        "\n",
        "alfa = [0.1, 1]\n",
        "\n",
        "intercepto_ridge = []\n",
        "coeficientes_ridge = []\n",
        "r2_ridge = []\n",
        "RMSE_ridge = []\n",
        "\n",
        "for it in alfa:\n",
        "    modelo_ridge = Ridge(alpha=it, normalize=True)\n",
        "    modelo_ridge.fit(X_train, Y_train)\n",
        "\n",
        "    intercepto = (modelo_ridge.intercept_)\n",
        "    intercepto_ridge.append(intercepto)\n",
        "\n",
        "    coeficientes = (modelo_ridge.coef_)\n",
        "    coeficientes_ridge.append(coeficientes)\n",
        "\n",
        "    r2 = (modelo_ridge.score(X,Y))\n",
        "    r2_ridge.append(r2)\n",
        "\n",
        "    Y_predic = modelo_ridge.predict(X_test)\n",
        "    Y_pred = modelo_ridge.predict(X_test)\n",
        "\n",
        "print(pd.DataFrame(intercepto_ridge))\n",
        "print('Los coeficientes de los modelos son:', np.array(coeficientes_ridge))\n",
        "print( pd.DataFrame(r2_ridge))\n",
        "\n",
        "RMSE = np.sqrt(metrics.mean_squared_error(Y_test, Y_pred))\n",
        "RMSE_ridge.append(RMSE)\n",
        "print(\"El respectivo RMSE es:\", pd.DataFrame(RMSE_ridge))"
      ],
      "execution_count": null,
      "outputs": [
        {
          "output_type": "stream",
          "name": "stdout",
          "text": [
            "           0\n",
            "0  39.185807\n",
            "1  26.958817\n",
            "Los coeficientes de los modelos son: [[ 2.41267556e-02 -1.23290300e+00  6.28214583e-02  2.84597398e-02\n",
            "  -1.13568089e+00  4.11538161e-03 -1.37339205e-03 -3.71461231e+01\n",
            "   2.13181461e-01  6.14602278e-01  2.58412490e-01  1.17268780e-01]\n",
            " [-1.64630760e-04 -5.74532464e-01  1.82441340e-01  5.57021917e-03\n",
            "  -1.27223070e+00  1.46810287e-03 -5.74946130e-04 -2.29358069e+01\n",
            "   8.10872512e-02  3.03020569e-01  1.39310622e-01 -1.85065543e-02]]\n",
            "          0\n",
            "0  0.289368\n",
            "1  0.218769\n",
            "El respectivo RMSE es:           0\n",
            "0  0.767778\n"
          ]
        }
      ]
    },
    {
      "cell_type": "code",
      "metadata": {
        "id": "t1n8n5N1Uv8f",
        "colab": {
          "base_uri": "https://localhost:8080/"
        },
        "outputId": "3627d6bb-3c8b-493c-f65d-0112be29cc75"
      },
      "source": [
        "# El mejor alfa\n",
        "alpha_range = 10.**np.arange(-1, 1)\n",
        "modelo_ridge_cv = RidgeCV(alphas=alpha_range, normalize=True, scoring='neg_mean_squared_error')\n",
        "modelo_ridge_cv.fit(X_train, Y_train)\n",
        "print('El mejor alfa el modelo es:',modelo_ridge_cv.alpha_)"
      ],
      "execution_count": null,
      "outputs": [
        {
          "output_type": "stream",
          "name": "stdout",
          "text": [
            "El mejor alfa el modelo es: 0.1\n"
          ]
        }
      ]
    },
    {
      "cell_type": "code",
      "metadata": {
        "colab": {
          "base_uri": "https://localhost:8080/"
        },
        "id": "nNNsPZS0vn2_",
        "outputId": "557d6f71-389d-4b88-83d1-f22bc422b27e"
      },
      "source": [
        "np.array(coeficientes_ridge)"
      ],
      "execution_count": null,
      "outputs": [
        {
          "output_type": "execute_result",
          "data": {
            "text/plain": [
              "array([[ 2.41267556e-02, -1.23290300e+00,  6.28214583e-02,\n",
              "         2.84597398e-02, -1.13568089e+00,  4.11538161e-03,\n",
              "        -1.37339205e-03, -3.71461231e+01,  2.13181461e-01,\n",
              "         6.14602278e-01,  2.58412490e-01,  1.17268780e-01],\n",
              "       [-1.64630760e-04, -5.74532464e-01,  1.82441340e-01,\n",
              "         5.57021917e-03, -1.27223070e+00,  1.46810287e-03,\n",
              "        -5.74946130e-04, -2.29358069e+01,  8.10872512e-02,\n",
              "         3.03020569e-01,  1.39310622e-01, -1.85065543e-02]])"
            ]
          },
          "metadata": {},
          "execution_count": 33
        }
      ]
    },
    {
      "cell_type": "markdown",
      "metadata": {
        "id": "prQ_zgte0kDt"
      },
      "source": [
        "*Se aprecia que para algunas variables Xi los coeficientes Bi de la regresion lineal de ridge con alfa = 0.1 tienden a disminuir, con respecto a la regresión lineal calcula en el ejercicio 2, como es el caso de las variables \"fixed acidity\", \"volatile acidity\", \"citric acid\", \"residual sugar\", \"density\", \"pH\", \"sulphates\" y \"type\", por otra parte, los coeficientes -1.12 y 0.25 correspondientes a las variables \"chlorides\" y \"alcohol\" respectivamente, aumentan y por ultimo, tambien se aprecian Bi que no tienen un cambio significativo como lo son los de las variables \"free sulfur dioxide\" y \"total sulfur dioxide\", esto puede indicar que estos dos ultimos atributos no generan cambios en los modelos descritos anteriormente.*"
      ]
    },
    {
      "cell_type": "markdown",
      "metadata": {
        "id": "lH8tHz38QwIE"
      },
      "source": [
        "# Ejercicio 4\n",
        "\n",
        "* Estimar una regresión lasso con alfa igual a 0,01, 0,1 y 1.\n",
        "* Comparar los coeficientes con la regresión lineal\n",
        "* Evaluar el RMSE"
      ]
    },
    {
      "cell_type": "code",
      "metadata": {
        "colab": {
          "base_uri": "https://localhost:8080/",
          "height": 231
        },
        "id": "jGQVRNxVWC5U",
        "outputId": "ed66e2e2-9f99-4fe1-da1d-db954c7c9a97"
      },
      "source": [
        "X = data.drop(['quality'], axis =1 )\n",
        "Y = data['quality']\n",
        "\n",
        "X_train, X_test, Y_train, Y_test = train_test_split(X, Y, test_size=0.20, random_state=1234)\n",
        "\n",
        "alfa = [0.01, 0.1, 1]\n",
        "\n",
        "intercepto_lasso = []\n",
        "coeficientes_lasso = []\n",
        "r2_lasso = []\n",
        "RMSE_lasso = []\n",
        "\n",
        "for it in alfa:\n",
        "    modelo_lasso = Lasso(alpha=it, normalize=False)\n",
        "    modelo_lasso.fit(X_train, Y_train)\n",
        "\n",
        "    intercepto = (modelo_lasso.intercept_)\n",
        "    intercepto_lasso.append(intercepto)\n",
        "\n",
        "    coeficientes = (modelo_lasso.coef_)\n",
        "    coeficientes_lasso.append(coeficientes)\n",
        "\n",
        "    r2 = (modelo_lasso.score(X,Y))\n",
        "    r2_lasso.append(r2)\n",
        "\n",
        "    Y_predic = modelo_lasso.predict(X_test)\n",
        "    Y_pred = modelo_lasso.predict(X_test)\n",
        "\n",
        "print(pd.DataFrame(intercepto_lasso))\n",
        "print('Los coeficientes de los modelos son:', np.array(coeficientes_lasso))\n",
        "print(pd.DataFrame(r2_lasso))\n",
        "\n",
        "RMSE = np.sqrt(metrics.mean_squared_error(Y_test, Y_pred))\n",
        "RMSE_lasso.append(RMSE)\n",
        "print(\"El respectivo RMSE es:\", pd.DataFrame(RMSE_lasso))"
      ],
      "execution_count": null,
      "outputs": [
        {
          "output_type": "error",
          "ename": "NameError",
          "evalue": "ignored",
          "traceback": [
            "\u001b[0;31m---------------------------------------------------------------------------\u001b[0m",
            "\u001b[0;31mNameError\u001b[0m                                 Traceback (most recent call last)",
            "\u001b[0;32m<ipython-input-1-ed3a5c061f5b>\u001b[0m in \u001b[0;36m<module>\u001b[0;34m()\u001b[0m\n\u001b[0;32m----> 1\u001b[0;31m \u001b[0mX\u001b[0m \u001b[0;34m=\u001b[0m \u001b[0mdata\u001b[0m\u001b[0;34m.\u001b[0m\u001b[0mdrop\u001b[0m\u001b[0;34m(\u001b[0m\u001b[0;34m[\u001b[0m\u001b[0;34m'quality'\u001b[0m\u001b[0;34m]\u001b[0m\u001b[0;34m,\u001b[0m \u001b[0maxis\u001b[0m \u001b[0;34m=\u001b[0m\u001b[0;36m1\u001b[0m \u001b[0;34m)\u001b[0m\u001b[0;34m\u001b[0m\u001b[0;34m\u001b[0m\u001b[0m\n\u001b[0m\u001b[1;32m      2\u001b[0m \u001b[0mY\u001b[0m \u001b[0;34m=\u001b[0m \u001b[0mdata\u001b[0m\u001b[0;34m[\u001b[0m\u001b[0;34m'quality'\u001b[0m\u001b[0;34m]\u001b[0m\u001b[0;34m\u001b[0m\u001b[0;34m\u001b[0m\u001b[0m\n\u001b[1;32m      3\u001b[0m \u001b[0;34m\u001b[0m\u001b[0m\n\u001b[1;32m      4\u001b[0m \u001b[0mX_train\u001b[0m\u001b[0;34m,\u001b[0m \u001b[0mX_test\u001b[0m\u001b[0;34m,\u001b[0m \u001b[0mY_train\u001b[0m\u001b[0;34m,\u001b[0m \u001b[0mY_test\u001b[0m \u001b[0;34m=\u001b[0m \u001b[0mtrain_test_split\u001b[0m\u001b[0;34m(\u001b[0m\u001b[0mX\u001b[0m\u001b[0;34m,\u001b[0m \u001b[0mY\u001b[0m\u001b[0;34m,\u001b[0m \u001b[0mtest_size\u001b[0m\u001b[0;34m=\u001b[0m\u001b[0;36m0.20\u001b[0m\u001b[0;34m,\u001b[0m \u001b[0mrandom_state\u001b[0m\u001b[0;34m=\u001b[0m\u001b[0;36m1234\u001b[0m\u001b[0;34m)\u001b[0m\u001b[0;34m\u001b[0m\u001b[0;34m\u001b[0m\u001b[0m\n\u001b[1;32m      5\u001b[0m \u001b[0;34m\u001b[0m\u001b[0m\n",
            "\u001b[0;31mNameError\u001b[0m: name 'data' is not defined"
          ]
        }
      ]
    },
    {
      "cell_type": "code",
      "metadata": {
        "id": "hGZpm0zFXKBS"
      },
      "source": [
        "# El mejor alfa\n",
        "alpha_range = 10.**np.arange(-2, 1)\n",
        "modelo_lasso_cv = LassoCV(alphas=alpha_range, normalize=True)\n",
        "modelo_lasso_cv.fit(X_train, Y_train)\n",
        "print('El mejor alfa para aplicar en el modelo es:',modelo_lasso_cv.alpha_)"
      ],
      "execution_count": null,
      "outputs": []
    },
    {
      "cell_type": "code",
      "metadata": {
        "id": "ExIOVAlOFqLO"
      },
      "source": [
        "np.array(coeficientes_lasso)"
      ],
      "execution_count": null,
      "outputs": []
    },
    {
      "cell_type": "markdown",
      "metadata": {
        "id": "pTpU32dPcBSP"
      },
      "source": [
        "*Como se conoce, la regresión de Lasso reduce los coeficientes para aquellas variables de entrada que no contribuyen mucho a la tarea de predicción, en este caso se observa que todos los coeficientes quedaron en 0 exceptuando el coeficiente -0.000351 que corresponde a la variable \"total sulfur dioxide\" que en comparación con la regresión lineal que se planteo inicialmente, era una variable de poca relevancia y con un coeficiente pequeño.*"
      ]
    },
    {
      "cell_type": "markdown",
      "metadata": {
        "id": "vyQOAeSaQwIG"
      },
      "source": [
        "# Ejercicio 5\n",
        "\n",
        "* Estandarizar las características (excepto la calidad del vino)\n",
        "\n",
        "* Crear una variable objetivo binaria para cada tipo de vino\n",
        "\n",
        "* Analizar los coeficientes\n",
        "\n",
        "* * Evalúe con F1, AUC-ROC y log-loss"
      ]
    },
    {
      "cell_type": "code",
      "metadata": {
        "colab": {
          "base_uri": "https://localhost:8080/",
          "height": 129
        },
        "id": "91CzO4BZBgSD",
        "outputId": "82af28a3-895f-4b4c-f77d-c73fcf32451b"
      },
      "source": [
        "data_copy=data.copy()\n",
        "data_trabajo=data_copy.drop(['quality','type'], axis=1)\n",
        "data_trabajo.head(2)"
      ],
      "execution_count": null,
      "outputs": [
        {
          "output_type": "execute_result",
          "data": {
            "text/html": [
              "<div>\n",
              "<style scoped>\n",
              "    .dataframe tbody tr th:only-of-type {\n",
              "        vertical-align: middle;\n",
              "    }\n",
              "\n",
              "    .dataframe tbody tr th {\n",
              "        vertical-align: top;\n",
              "    }\n",
              "\n",
              "    .dataframe thead th {\n",
              "        text-align: right;\n",
              "    }\n",
              "</style>\n",
              "<table border=\"1\" class=\"dataframe\">\n",
              "  <thead>\n",
              "    <tr style=\"text-align: right;\">\n",
              "      <th></th>\n",
              "      <th>fixed acidity</th>\n",
              "      <th>volatile acidity</th>\n",
              "      <th>citric acid</th>\n",
              "      <th>residual sugar</th>\n",
              "      <th>chlorides</th>\n",
              "      <th>free sulfur dioxide</th>\n",
              "      <th>total sulfur dioxide</th>\n",
              "      <th>density</th>\n",
              "      <th>pH</th>\n",
              "      <th>sulphates</th>\n",
              "      <th>alcohol</th>\n",
              "    </tr>\n",
              "  </thead>\n",
              "  <tbody>\n",
              "    <tr>\n",
              "      <th>0</th>\n",
              "      <td>7.0</td>\n",
              "      <td>0.27</td>\n",
              "      <td>0.36</td>\n",
              "      <td>20.7</td>\n",
              "      <td>0.045</td>\n",
              "      <td>45.0</td>\n",
              "      <td>170.0</td>\n",
              "      <td>1.001</td>\n",
              "      <td>3.0</td>\n",
              "      <td>0.45</td>\n",
              "      <td>8.8</td>\n",
              "    </tr>\n",
              "    <tr>\n",
              "      <th>1</th>\n",
              "      <td>6.3</td>\n",
              "      <td>0.30</td>\n",
              "      <td>0.34</td>\n",
              "      <td>1.6</td>\n",
              "      <td>0.049</td>\n",
              "      <td>14.0</td>\n",
              "      <td>132.0</td>\n",
              "      <td>0.994</td>\n",
              "      <td>3.3</td>\n",
              "      <td>0.49</td>\n",
              "      <td>9.5</td>\n",
              "    </tr>\n",
              "  </tbody>\n",
              "</table>\n",
              "</div>"
            ],
            "text/plain": [
              "   fixed acidity  volatile acidity  citric acid  ...   pH  sulphates  alcohol\n",
              "0            7.0              0.27         0.36  ...  3.0       0.45      8.8\n",
              "1            6.3              0.30         0.34  ...  3.3       0.49      9.5\n",
              "\n",
              "[2 rows x 11 columns]"
            ]
          },
          "metadata": {},
          "execution_count": 39
        }
      ]
    },
    {
      "cell_type": "code",
      "metadata": {
        "id": "xYPTr7zFDtDc"
      },
      "source": [
        "quality=data['quality']\n",
        "type=data['type']"
      ],
      "execution_count": null,
      "outputs": []
    },
    {
      "cell_type": "code",
      "metadata": {
        "colab": {
          "base_uri": "https://localhost:8080/",
          "height": 112
        },
        "id": "j8kqboU-AreP",
        "outputId": "d18b8634-9aac-41df-99fa-bad61582bee6"
      },
      "source": [
        "# Estandarizar datos\n",
        "scaler = StandardScaler()\n",
        "data_trabajo.astype(float)\n",
        "scaler.fit(data_trabajo)\n",
        "data_scaler=pd.DataFrame(scaler.transform(data_trabajo))\n",
        "data_scaler.head(2)"
      ],
      "execution_count": null,
      "outputs": [
        {
          "output_type": "execute_result",
          "data": {
            "text/html": [
              "<div>\n",
              "<style scoped>\n",
              "    .dataframe tbody tr th:only-of-type {\n",
              "        vertical-align: middle;\n",
              "    }\n",
              "\n",
              "    .dataframe tbody tr th {\n",
              "        vertical-align: top;\n",
              "    }\n",
              "\n",
              "    .dataframe thead th {\n",
              "        text-align: right;\n",
              "    }\n",
              "</style>\n",
              "<table border=\"1\" class=\"dataframe\">\n",
              "  <thead>\n",
              "    <tr style=\"text-align: right;\">\n",
              "      <th></th>\n",
              "      <th>0</th>\n",
              "      <th>1</th>\n",
              "      <th>2</th>\n",
              "      <th>3</th>\n",
              "      <th>4</th>\n",
              "      <th>5</th>\n",
              "      <th>6</th>\n",
              "      <th>7</th>\n",
              "      <th>8</th>\n",
              "      <th>9</th>\n",
              "      <th>10</th>\n",
              "    </tr>\n",
              "  </thead>\n",
              "  <tbody>\n",
              "    <tr>\n",
              "      <th>0</th>\n",
              "      <td>-0.166089</td>\n",
              "      <td>-0.423183</td>\n",
              "      <td>0.284686</td>\n",
              "      <td>3.206929</td>\n",
              "      <td>-0.314975</td>\n",
              "      <td>0.815565</td>\n",
              "      <td>0.959976</td>\n",
              "      <td>2.102214</td>\n",
              "      <td>-1.359049</td>\n",
              "      <td>-0.546178</td>\n",
              "      <td>-1.418558</td>\n",
              "    </tr>\n",
              "    <tr>\n",
              "      <th>1</th>\n",
              "      <td>-0.706073</td>\n",
              "      <td>-0.240949</td>\n",
              "      <td>0.147046</td>\n",
              "      <td>-0.807837</td>\n",
              "      <td>-0.200790</td>\n",
              "      <td>-0.931107</td>\n",
              "      <td>0.287618</td>\n",
              "      <td>-0.232332</td>\n",
              "      <td>0.506915</td>\n",
              "      <td>-0.277351</td>\n",
              "      <td>-0.831615</td>\n",
              "    </tr>\n",
              "  </tbody>\n",
              "</table>\n",
              "</div>"
            ],
            "text/plain": [
              "         0         1         2   ...        8         9         10\n",
              "0 -0.166089 -0.423183  0.284686  ... -1.359049 -0.546178 -1.418558\n",
              "1 -0.706073 -0.240949  0.147046  ...  0.506915 -0.277351 -0.831615\n",
              "\n",
              "[2 rows x 11 columns]"
            ]
          },
          "metadata": {},
          "execution_count": 42
        }
      ]
    },
    {
      "cell_type": "code",
      "metadata": {
        "colab": {
          "base_uri": "https://localhost:8080/",
          "height": 112
        },
        "id": "JXU8BQRNCafR",
        "outputId": "9fb7fa69-d880-4c83-bf2f-4cbcdb1d5dd3"
      },
      "source": [
        "data_trabajo=pd.concat([data_scaler,quality,type],axis=1)\n",
        "data_trabajo.head(2)"
      ],
      "execution_count": null,
      "outputs": [
        {
          "output_type": "execute_result",
          "data": {
            "text/html": [
              "<div>\n",
              "<style scoped>\n",
              "    .dataframe tbody tr th:only-of-type {\n",
              "        vertical-align: middle;\n",
              "    }\n",
              "\n",
              "    .dataframe tbody tr th {\n",
              "        vertical-align: top;\n",
              "    }\n",
              "\n",
              "    .dataframe thead th {\n",
              "        text-align: right;\n",
              "    }\n",
              "</style>\n",
              "<table border=\"1\" class=\"dataframe\">\n",
              "  <thead>\n",
              "    <tr style=\"text-align: right;\">\n",
              "      <th></th>\n",
              "      <th>0</th>\n",
              "      <th>1</th>\n",
              "      <th>2</th>\n",
              "      <th>3</th>\n",
              "      <th>4</th>\n",
              "      <th>5</th>\n",
              "      <th>6</th>\n",
              "      <th>7</th>\n",
              "      <th>8</th>\n",
              "      <th>9</th>\n",
              "      <th>10</th>\n",
              "      <th>quality</th>\n",
              "      <th>type</th>\n",
              "    </tr>\n",
              "  </thead>\n",
              "  <tbody>\n",
              "    <tr>\n",
              "      <th>0</th>\n",
              "      <td>-0.166089</td>\n",
              "      <td>-0.423183</td>\n",
              "      <td>0.284686</td>\n",
              "      <td>3.206929</td>\n",
              "      <td>-0.314975</td>\n",
              "      <td>0.815565</td>\n",
              "      <td>0.959976</td>\n",
              "      <td>2.102214</td>\n",
              "      <td>-1.359049</td>\n",
              "      <td>-0.546178</td>\n",
              "      <td>-1.418558</td>\n",
              "      <td>6</td>\n",
              "      <td>0</td>\n",
              "    </tr>\n",
              "    <tr>\n",
              "      <th>1</th>\n",
              "      <td>-0.706073</td>\n",
              "      <td>-0.240949</td>\n",
              "      <td>0.147046</td>\n",
              "      <td>-0.807837</td>\n",
              "      <td>-0.200790</td>\n",
              "      <td>-0.931107</td>\n",
              "      <td>0.287618</td>\n",
              "      <td>-0.232332</td>\n",
              "      <td>0.506915</td>\n",
              "      <td>-0.277351</td>\n",
              "      <td>-0.831615</td>\n",
              "      <td>6</td>\n",
              "      <td>0</td>\n",
              "    </tr>\n",
              "  </tbody>\n",
              "</table>\n",
              "</div>"
            ],
            "text/plain": [
              "          0         1         2         3  ...         9        10  quality  type\n",
              "0 -0.166089 -0.423183  0.284686  3.206929  ... -0.546178 -1.418558        6     0\n",
              "1 -0.706073 -0.240949  0.147046 -0.807837  ... -0.277351 -0.831615        6     0\n",
              "\n",
              "[2 rows x 13 columns]"
            ]
          },
          "metadata": {},
          "execution_count": 43
        }
      ]
    },
    {
      "cell_type": "code",
      "metadata": {
        "id": "xRzs61vRf3zk",
        "colab": {
          "base_uri": "https://localhost:8080/"
        },
        "outputId": "d8b0cd52-3b3e-4cec-8a18-6326da575591"
      },
      "source": [
        "X = data_trabajo.drop(['type'], axis =1 )\n",
        "Y = data_trabajo['type']\n",
        "\n",
        "X_train, X_test, Y_train, Y_test = train_test_split(X, Y, test_size=0.20, random_state=1)\n",
        "X_train = X_train.astype(float)\n",
        "X_test = X_test.astype(float)\n",
        "\n",
        "modelo_log = LogisticRegression(penalty='none',solver='lbfgs',multi_class='auto')\n",
        "modelo_log.fit(X_train, Y_train)\n",
        "\n",
        "print(modelo_log.intercept_)\n",
        "coeficientes_modelo_log = pd.DataFrame(modelo_log.coef_)\n",
        "coeficientes_modelo_log.columns=[\"fixed acidity\", \"volatile acidity\", \"citric acid\",\n",
        "                                \"residual sugar\", \"chlorides\", \"free sulfur dioxide\",\n",
        "                                \"total sulfur dioxide\",\"density\", \"pH\", \"sulphates\",\n",
        "                                \"alcohol\", \"quality\"]\n",
        "coeficientes_modelo_log.index =[\"Coeficientes\"]\n",
        "print('Los coeficientes del modelo son:',coeficientes_modelo_log.transpose())\n",
        "print(modelo_log.score(X,Y))\n",
        "\n",
        "Y_predic = modelo_log.predict(X_test)\n",
        "Y_pred = np.around(Y_predic)\n",
        "\n",
        "print(\"El RMSE del modelo es: \",np.sqrt(metrics.mean_squared_error(Y_test, Y_pred)))"
      ],
      "execution_count": null,
      "outputs": [
        {
          "output_type": "stream",
          "name": "stdout",
          "text": [
            "[-7.97968791]\n",
            "Los coeficientes del modelo son:                       Coeficientes\n",
            "fixed acidity            -0.586792\n",
            "volatile acidity          1.213229\n",
            "citric acid              -0.387194\n",
            "residual sugar           -5.318930\n",
            "chlorides                 0.761295\n",
            "free sulfur dioxide       0.810984\n",
            "total sulfur dioxide     -2.729374\n",
            "density                   5.592562\n",
            "pH                       -0.321378\n",
            "sulphates                 0.411828\n",
            "alcohol                   2.098391\n",
            "quality                   0.589264\n",
            "0.993997229490534\n",
            "El RMSE del modelo es:  0.1\n"
          ]
        }
      ]
    },
    {
      "cell_type": "markdown",
      "metadata": {
        "id": "9sdQ3LSGIZVo"
      },
      "source": [
        "*Los coeficientes que influyen positivamente en la respuesta corresponden a las variables \"volatile acidity\", \"chlorides\", \"free sulfur dioxide\", \"density\", \"sulphates\", \"alcohol\" y \"quality\".*"
      ]
    },
    {
      "cell_type": "code",
      "metadata": {
        "colab": {
          "base_uri": "https://localhost:8080/"
        },
        "id": "L09ebckfrNmT",
        "outputId": "75008bfe-ada5-47c8-8025-7d0c2fe3daee"
      },
      "source": [
        "# F1, AUC-ROC, LOG-LOSS\n",
        "Y_pred_prob = modelo_log.predict_proba(X_test)\n",
        "print('F1 score:', metrics.f1_score(Y_test, Y_pred))\n",
        "print('AUC-ROC score:', metrics.roc_auc_score(Y_test, Y_pred, average=None))\n",
        "print('Log-loss score:',metrics.log_loss(Y_test, Y_pred_prob))"
      ],
      "execution_count": null,
      "outputs": [
        {
          "output_type": "stream",
          "name": "stdout",
          "text": [
            "F1 score: 0.9789303079416531\n",
            "AUC-ROC score: 0.9824561403508772\n",
            "Log-loss score: 0.0371537935181029\n"
          ]
        }
      ]
    },
    {
      "cell_type": "markdown",
      "metadata": {
        "id": "eMUM8qtb2tPc"
      },
      "source": [
        "*La puntuación F1 esta muy cerca del mejor valor (1), esto indica que la presicion y la recuperación es alta. El AUC-ROC tambien es un valor alto, lo que indica que el predictor del modelo tiene la capacidad de distingir entre clases positivas y negativas. Por ultimo, el log-loss tiene un valor bajo cercano a 0 que indica mejores predicciones.*"
      ]
    },
    {
      "cell_type": "markdown",
      "metadata": {
        "id": "amSxrrDYQwIJ"
      },
      "source": [
        "# Ejercicio 6\n",
        "\n",
        "* Estimar una regresión logística regularizada usando:\n",
        "* C = 0.01, 0.1 & 1.0\n",
        "* penalización = ['l1, 'l2']\n",
        "* Compare los coeficientes y la puntuación f1.\n",
        "\n",
        "Nota: Para los valores de C y Penalización, deben realizar todas las posibles combinaciones entre estas dos variables."
      ]
    },
    {
      "cell_type": "code",
      "metadata": {
        "colab": {
          "base_uri": "https://localhost:8080/"
        },
        "id": "_BbAha7Zb5ZN",
        "outputId": "8643e912-c5b5-4f8a-9b3d-78e46c9e796d"
      },
      "source": [
        "# Penalizacion 'l1'\n",
        "c = [0.01, 0.1, 1]\n",
        "\n",
        "intercepto_log_l1 = []\n",
        "coeficientes_log_l1 = []\n",
        "r2_log_l1 = []\n",
        "RMSE_log_l1 =[]\n",
        "F1_log_l1 = []\n",
        "\n",
        "for it in c:\n",
        "  modelo_log_l1 = LogisticRegression(C=it, penalty='l1',solver='liblinear',multi_class='auto',random_state=1234)\n",
        "  modelo_log_l1.fit(X_train, Y_train)\n",
        "\n",
        "  intercepto = (modelo_log_l1.intercept_)\n",
        "  intercepto_log_l1.append(intercepto)\n",
        "\n",
        "  coeficientes = (modelo_log_l1.coef_)\n",
        "  coeficientes_log_l1.append(coeficientes)\n",
        "\n",
        "  r2 = (modelo_log_l1.score(X,Y))\n",
        "  r2_log_l1.append(r2)\n",
        "\n",
        "  Y_pred_prob = modelo_log_l1.predict_proba(X_test)\n",
        "  RMSE = np.sqrt(metrics.mean_squared_error(Y_test, Y_pred))\n",
        "  RMSE_log_l1.append(RMSE)\n",
        "\n",
        "  F1 = (metrics.f1_score(Y_test, Y_pred))\n",
        "  F1_log_l1.append(F1)\n",
        "\n",
        "print(pd.DataFrame(intercepto_log_l1))\n",
        "print('Los coeficientes de los modelos son:',np.array(coeficientes_log_l1))\n",
        "print(pd.DataFrame(r2_log_l1))\n",
        "print(pd.DataFrame(RMSE_log_l1))\n",
        "print('El respectivo F1 score es:', pd.DataFrame(F1_log_l1))"
      ],
      "execution_count": null,
      "outputs": [
        {
          "output_type": "stream",
          "name": "stdout",
          "text": [
            "          0\n",
            "0  0.000000\n",
            "1  0.000000\n",
            "2 -5.582226\n",
            "Los coeficientes de los modelos son: [[[ 0.33265012  0.84538653  0.         -0.0420302   0.45419434\n",
            "    0.         -1.73205739  0.41111489  0.35047584  0.60649738\n",
            "    0.         -0.37206238]]\n",
            "\n",
            " [[ 0.          0.95232641 -0.12702655 -2.02615028  0.65235375\n",
            "    0.26093091 -2.3308892   2.8557661   0.27507341  0.71279251\n",
            "    0.97827985 -0.57030748]]\n",
            "\n",
            " [[-0.1841379   1.15867894 -0.34218087 -4.2504832   0.76403744\n",
            "    0.69198176 -2.62626576  4.54750413  0.          0.47494256\n",
            "    1.71159065  0.23413029]]]\n",
            "          0\n",
            "0  0.985378\n",
            "1  0.992150\n",
            "2  0.994305\n",
            "     0\n",
            "0  0.1\n",
            "1  0.1\n",
            "2  0.1\n",
            "El respectivo F1 score es:          0\n",
            "0  0.97893\n",
            "1  0.97893\n",
            "2  0.97893\n"
          ]
        }
      ]
    },
    {
      "cell_type": "code",
      "metadata": {
        "colab": {
          "base_uri": "https://localhost:8080/"
        },
        "id": "V5hLqMT3mmrx",
        "outputId": "1c109588-c1ee-495f-c4f7-809e516ed282"
      },
      "source": [
        "# Penalizacion 'l2'\n",
        "c = [0.01, 0.1, 1]\n",
        "\n",
        "intercepto_log_l2 = []\n",
        "coeficientes_log_l2 = []\n",
        "r2_log_l2 = []\n",
        "RMSE_log_l2 =[]\n",
        "F1_log_l2 = []\n",
        "\n",
        "for it in c:\n",
        "  modelo_log_l2 = LogisticRegression(C=it, penalty='l2',solver='liblinear',multi_class='auto',random_state=1234)\n",
        "  modelo_log_l2.fit(X_train, Y_train)\n",
        "\n",
        "  intercepto = (modelo_log_l2.intercept_)\n",
        "  intercepto_log_l2.append(intercepto)\n",
        "\n",
        "  coeficientes = (modelo_log_l2.coef_)\n",
        "  coeficientes_log_l2.append(coeficientes)\n",
        "\n",
        "  r2 = (modelo_log_l2.score(X,Y))\n",
        "  r2_log_l2.append(r2)\n",
        "\n",
        "  Y_pred_prob = modelo_log_l2.predict_proba(X_test)\n",
        "  RMSE = np.sqrt(metrics.mean_squared_error(Y_test, Y_pred))\n",
        "  RMSE_log_l2.append(RMSE)\n",
        "\n",
        "  F1 = (metrics.f1_score(Y_test, Y_pred))\n",
        "  F1_log_l2.append(F1)\n",
        "\n",
        "\n",
        "print(pd.DataFrame(intercepto_log_l2))\n",
        "print('Los coeficientes de los modelos son:',np.array(coeficientes_log_l2))\n",
        "print(\"\")\n",
        "print(pd.DataFrame(r2_log_l2))\n",
        "print(pd.DataFrame(RMSE_log_l2))\n",
        "print('El respectivo F1 score es:', pd.DataFrame(F1_log_l2))"
      ],
      "execution_count": null,
      "outputs": [
        {
          "output_type": "stream",
          "name": "stdout",
          "text": [
            "          0\n",
            "0 -0.175103\n",
            "1 -0.731518\n",
            "2 -3.027143\n",
            "Los coeficientes de los modelos son: [[[ 0.59782433  0.75490584 -0.21287738 -0.55671999  0.61798162\n",
            "   -0.22188947 -1.16476192  0.71398915  0.53883334  0.63910651\n",
            "    0.16936178 -0.37238238]]\n",
            "\n",
            " [[ 0.73918326  1.03994202 -0.30790444 -1.35842685  0.84518557\n",
            "    0.20946375 -2.12200253  1.66483577  0.68142031  0.83020656\n",
            "    0.56260738 -0.43771165]]\n",
            "\n",
            " [[ 0.14167086  1.12329485 -0.33841614 -3.15113391  0.79769997\n",
            "    0.6974427  -2.64695534  3.58135993  0.2429419   0.64162971\n",
            "    1.37085605 -0.14733136]]]\n",
            "\n",
            "          0\n",
            "0  0.988610\n",
            "1  0.992150\n",
            "2  0.993843\n",
            "     0\n",
            "0  0.1\n",
            "1  0.1\n",
            "2  0.1\n",
            "El respectivo F1 score es:          0\n",
            "0  0.97893\n",
            "1  0.97893\n",
            "2  0.97893\n"
          ]
        }
      ]
    },
    {
      "cell_type": "code",
      "metadata": {
        "colab": {
          "base_uri": "https://localhost:8080/"
        },
        "id": "tfYR6Enlo3qD",
        "outputId": "f3f5f4de-014b-4c2c-861a-e262f15bb978"
      },
      "source": [
        "print('Los coeficientes de los modelos con l1 son:',np.array(coeficientes_log_l1))\n",
        "print('Los coeficientes de los modelos con l2 son:',np.array(coeficientes_log_l2))"
      ],
      "execution_count": null,
      "outputs": [
        {
          "output_type": "stream",
          "name": "stdout",
          "text": [
            "Los coeficientes de los modelos con l1 son: [[[ 0.33265012  0.84538653  0.         -0.0420302   0.45419434\n",
            "    0.         -1.73205739  0.41111489  0.35047584  0.60649738\n",
            "    0.         -0.37206238]]\n",
            "\n",
            " [[ 0.          0.95232641 -0.12702655 -2.02615028  0.65235375\n",
            "    0.26093091 -2.3308892   2.8557661   0.27507341  0.71279251\n",
            "    0.97827985 -0.57030748]]\n",
            "\n",
            " [[-0.1841379   1.15867894 -0.34218087 -4.2504832   0.76403744\n",
            "    0.69198176 -2.62626576  4.54750413  0.          0.47494256\n",
            "    1.71159065  0.23413029]]]\n",
            "Los coeficientes de los modelos con l2 son: [[[ 0.59782433  0.75490584 -0.21287738 -0.55671999  0.61798162\n",
            "   -0.22188947 -1.16476192  0.71398915  0.53883334  0.63910651\n",
            "    0.16936178 -0.37238238]]\n",
            "\n",
            " [[ 0.73918326  1.03994202 -0.30790444 -1.35842685  0.84518557\n",
            "    0.20946375 -2.12200253  1.66483577  0.68142031  0.83020656\n",
            "    0.56260738 -0.43771165]]\n",
            "\n",
            " [[ 0.14167086  1.12329485 -0.33841614 -3.15113391  0.79769997\n",
            "    0.6974427  -2.64695534  3.58135993  0.2429419   0.64162971\n",
            "    1.37085605 -0.14733136]]]\n"
          ]
        }
      ]
    },
    {
      "cell_type": "code",
      "metadata": {
        "colab": {
          "base_uri": "https://localhost:8080/"
        },
        "id": "_e5VMP3KkH0L",
        "outputId": "9ab6d8d2-29b8-4fb4-e514-e1fc1d60c90b"
      },
      "source": [
        "print('F1 score con l1:',np.array(F1_log_l1))\n",
        "print('F2 score con l2:',np.array(F1_log_l2))"
      ],
      "execution_count": null,
      "outputs": [
        {
          "output_type": "stream",
          "name": "stdout",
          "text": [
            "F1 score con l1: [0.97893031 0.97893031 0.97893031]\n",
            "F2 score con l2: [0.97893031 0.97893031 0.97893031]\n"
          ]
        }
      ]
    },
    {
      "cell_type": "markdown",
      "metadata": {
        "id": "4DbuHBn7QwHu"
      },
      "source": [
        "# SVM"
      ]
    },
    {
      "cell_type": "markdown",
      "metadata": {
        "id": "0kggmI76QwHv"
      },
      "source": [
        "# Ejercicio 7\n",
        "\n",
        "Teniendo en cuenta las mismas variables de la regresión logística:\n",
        "\n",
        "* Crear un objetivo binario para cada tipo de vino\n",
        "* Crear dos SVM lineales para los vinos blancos y tintos, respectivamente.\n"
      ]
    },
    {
      "cell_type": "code",
      "metadata": {
        "id": "X1vtEzW505DM"
      },
      "source": [
        "# Variable objetivo para white\n",
        "data['TypeW'] = data.type.map({'white':1,'red':0})\n",
        "# Variable objetivo para red\n",
        "data['TypeR'] = data.type.map({'white':0,'red':1})"
      ],
      "execution_count": null,
      "outputs": []
    },
    {
      "cell_type": "code",
      "metadata": {
        "id": "JO_dtiG-0_Ae"
      },
      "source": [
        "# Vino White\n",
        "X = X\n",
        "y = data['TypeW']\n",
        "# split into training and testing sets\n",
        "from sklearn.model_selection import train_test_split\n",
        "X_train, X_test, y_train, y_test = train_test_split(X, y, random_state=1)\n",
        "\n",
        "# Construir un modelo de regresión lineal\n",
        "from sklearn.linear_model import LinearRegression\n",
        "linreg = LinearRegression()\n",
        "linreg.fit(X_train, y_train)\n",
        "\n",
        "# Vino White\n",
        "from sklearn.svm import SVC\n",
        "modSVCW = SVC(kernel='linear', C=1E6)\n",
        "modSVCW.fit(X_train, y_train)"
      ],
      "execution_count": null,
      "outputs": []
    },
    {
      "cell_type": "code",
      "metadata": {
        "id": "5BYWeEoN1CxK"
      },
      "source": [
        "# Vino Red\n",
        "X = X\n",
        "y = data['TypeR']\n",
        "# split into training and testing sets\n",
        "from sklearn.model_selection import train_test_split\n",
        "X_train, X_test, y_train, y_test = train_test_split(X, y, random_state=1)\n",
        "\n",
        "# Construir un modelo de regresión lineal\n",
        "from sklearn.linear_model import LinearRegression\n",
        "linreg = LinearRegression()\n",
        "linreg.fit(X_train, y_train)\n",
        "\n",
        "# Vino Red\n",
        "from sklearn.svm import SVC\n",
        "modSVCW = SVC(kernel='linear', C=1E6)\n",
        "modSVCW.fit(X_train, y_train)"
      ],
      "execution_count": null,
      "outputs": []
    },
    {
      "cell_type": "markdown",
      "metadata": {
        "id": "auNsSHtsQwH1"
      },
      "source": [
        "# Ejercicio 8\n",
        "\n",
        "* Probar las dos SVM utilizando los diferentes kernels ('poly', 'rbf', 'sigmoid')\n",
        "* Evalúe con F1, AUC-ROC y log-loss\n"
      ]
    },
    {
      "cell_type": "code",
      "metadata": {
        "collapsed": true,
        "id": "f6adIqmAQwH4"
      },
      "source": [
        "##### VINO TINTO\n",
        "\n",
        "## POLY\n",
        "modSVC = SVC(kernel='poly', C=1E6)\n",
        "modSVC.fit(X_train, y_train)\n",
        "\n",
        "svc_clf = svm.SVC()\n",
        "# Grilla de validación\n",
        "parameters = {'gamma': np.linspace(0,1,20), 'C': np.linspace(10,1000,50)}\n",
        "acc_scorer = make_scorer(roc_auc_score)\n",
        "\n",
        "# Run and fit the grid search\n",
        "grid_obj = GridSearchCV(svc_clf, parameters, scoring=acc_scorer)\n",
        "grid_obj = grid_obj.fit(X_train, y_train)\n",
        "\n",
        "grid_obj\n",
        "\n",
        "svc_clf_best = grid_obj.best_estimator_\n",
        "svc_clf_best\n",
        "\n",
        "svc_clf_best.fit(X_train, y_train)\n",
        "\n",
        "svc_pred = svc_clf_best.predict(X_test)\n",
        "# F1\n",
        "print('F1 score:', metrics.f1_score(y_test, svc_pred))\n",
        "# AUC-ROC\n",
        "print('ROC AUC score:', metrics.roc_auc_score(y_test, svc_pred, average=None))\n",
        "# log-loss\n",
        "print('Log Loss:', metrics.log_loss(y_test, svc_pred))"
      ],
      "execution_count": null,
      "outputs": []
    },
    {
      "cell_type": "code",
      "metadata": {
        "id": "Va_ShJ3kC_GH"
      },
      "source": [
        "## RBF\n",
        "modSVC = SVC(kernel='rbf', C=1E6)\n",
        "modSVC.fit(X_train, y_train)\n",
        "\n",
        "svc_clf = svm.SVC()\n",
        "# Grilla de validación\n",
        "parameters = {'gamma': np.linspace(0,1,20), 'C': np.linspace(10,1000,50)}\n",
        "acc_scorer = make_scorer(roc_auc_score)\n",
        "\n",
        "# Run and fit the grid search\n",
        "grid_obj = GridSearchCV(svc_clf, parameters, scoring=acc_scorer)\n",
        "grid_obj = grid_obj.fit(X_train, y_train)\n",
        "\n",
        "grid_obj\n",
        "svc_clf_best = grid_obj.best_estimator_\n",
        "svc_clf_best\n",
        "svc_clf_best.fit(X_train, y_train)\n",
        "\n",
        "svc_pred = svc_clf_best.predict(X_test)\n",
        "# F1\n",
        "print('F1 score:', metrics.f1_score(y_test, svc_pred))\n",
        "# AUC-ROC\n",
        "print('ROC AUC score:', metrics.roc_auc_score(y_test, svc_pred, average=None))\n",
        "# log-loss\n",
        "print('Log Loss:', metrics.log_loss(y_test, svc_pred))"
      ],
      "execution_count": null,
      "outputs": []
    },
    {
      "cell_type": "code",
      "metadata": {
        "id": "w3I6aK0iDCeu"
      },
      "source": [
        "## SIGMOID\n",
        "modSVC = SVC(kernel='sigmoid', C=1E6)\n",
        "modSVC.fit(X_train, y_train)\n",
        "svc_clf = svm.SVC()\n",
        "# Grilla de validación\n",
        "parameters = {'gamma': np.linspace(0,1,20), 'C': np.linspace(10,1000,50)}\n",
        "acc_scorer = make_scorer(roc_auc_score)\n",
        "\n",
        "# Run and fit the grid search\n",
        "grid_obj = GridSearchCV(svc_clf, parameters, scoring=acc_scorer)\n",
        "grid_obj = grid_obj.fit(X_train, y_train)\n",
        "\n",
        "grid_obj\n",
        "svc_clf_best = grid_obj.best_estimator_\n",
        "svc_clf_best\n",
        "svc_clf_best.fit(X_train, y_train)\n",
        "\n",
        "svc_pred = svc_clf_best.predict(X_test)\n",
        "# F1\n",
        "print('F1 score:', metrics.f1_score(y_test, svc_pred))\n",
        "# AUC-ROC\n",
        "print('ROC AUC score:', metrics.roc_auc_score(y_test, svc_pred, average=None))\n",
        "# log-loss\n",
        "print('Log Loss:', metrics.log_loss(y_test, svc_pred))"
      ],
      "execution_count": null,
      "outputs": []
    },
    {
      "cell_type": "code",
      "metadata": {
        "id": "OUEalTN5DFVK"
      },
      "source": [
        "#### VINO BLANCO\n",
        "\n",
        "## POLY\n",
        "modSVC = SVC(kernel='poly', C=1E6)\n",
        "modSVC.fit(X_train, y_train)\n",
        "svc_clf = svm.SVC()\n",
        "# Grilla de validación\n",
        "parameters = {'gamma': np.linspace(0,1,20), 'C': np.linspace(10,1000,50)}\n",
        "acc_scorer = make_scorer(roc_auc_score)\n",
        "# Run and fit the grid search\n",
        "grid_obj = GridSearchCV(svc_clf, parameters, scoring=acc_scorer)\n",
        "grid_obj = grid_obj.fit(X_train, y_train)\n",
        "grid_obj\n",
        "\n",
        "svc_clf_best = grid_obj.best_estimator_\n",
        "svc_clf_best\n",
        "\n",
        "svc_clf_best.fit(X_train, y_train)\n",
        "\n",
        "svc_pred = svc_clf_best.predict(X_test)\n",
        "\n",
        "# F1\n",
        "print('F1 score:', metrics.f1_score(y_test, svc_pred))\n",
        "# AUC-ROC\n",
        "print('ROC AUC score:', metrics.roc_auc_score(y_test, svc_pred, average=None))\n",
        "# log-loss\n",
        "print('Log Loss:', metrics.log_loss(y_test, svc_pred))"
      ],
      "execution_count": null,
      "outputs": []
    },
    {
      "cell_type": "code",
      "metadata": {
        "id": "JiVoDXS9DLhK"
      },
      "source": [
        "## RBF\n",
        "modSVC = SVC(kernel='rbf', C=1E6)\n",
        "modSVC.fit(X_train, y_train)\n",
        "\n",
        "svc_clf = svm.SVC()\n",
        "# Grilla de validación\n",
        "parameters = {'gamma': np.linspace(0,1,20), 'C': np.linspace(10,1000,50)}\n",
        "acc_scorer = make_scorer(roc_auc_score)\n",
        "\n",
        "# Run and fit the grid search\n",
        "grid_obj = GridSearchCV(svc_clf, parameters, scoring=acc_scorer)\n",
        "grid_obj = grid_obj.fit(X_train, y_train)\n",
        "\n",
        "grid_obj\n",
        "\n",
        "svc_clf_best = grid_obj.best_estimator_\n",
        "svc_clf_best\n",
        "# F1\n",
        "print('F1 score:', metrics.f1_score(y_test, svc_pred))\n",
        "# AUC-ROC\n",
        "print('ROC AUC score:', metrics.roc_auc_score(y_test, svc_pred, average=None))\n",
        "# log-loss\n",
        "print('Log Loss:', metrics.log_loss(y_test, svc_pred))"
      ],
      "execution_count": null,
      "outputs": []
    },
    {
      "cell_type": "code",
      "metadata": {
        "id": "6UB_QAamDONO"
      },
      "source": [
        "## SIGMOID\n",
        "modSVC = SVC(kernel='sigmoid', C=1E6)\n",
        "modSVC.fit(X_train, y_train)\n",
        "\n",
        "svc_clf = svm.SVC()\n",
        "# Grilla de validación\n",
        "parameters = {'gamma': np.linspace(0,1,20), 'C': np.linspace(10,1000,50)}\n",
        "acc_scorer = make_scorer(roc_auc_score)\n",
        "\n",
        "# Run and fit the grid search\n",
        "grid_obj = GridSearchCV(svc_clf, parameters, scoring=acc_scorer)\n",
        "grid_obj = grid_obj.fit(X_train, y_train)\n",
        "\n",
        "grid_obj\n",
        "\n",
        "svc_clf_best = grid_obj.best_estimator_\n",
        "svc_clf_best\n",
        "\n",
        "svc_clf_best.fit(X_train, y_train)\n",
        "\n",
        "svc_pred = svc_clf_best.predict(X_test)\n",
        "# F1\n",
        "print('F1 score:', metrics.f1_score(y_test, svc_pred))\n",
        "# AUC-ROC\n",
        "print('ROC AUC score:', metrics.roc_auc_score(y_test, svc_pred, average=None))\n",
        "# log-loss\n",
        "print('Log Loss:', metrics.log_loss(y_test, svc_pred))"
      ],
      "execution_count": null,
      "outputs": []
    },
    {
      "cell_type": "markdown",
      "metadata": {
        "id": "phPeiv48GfN8"
      },
      "source": [
        "*El mejor SVM es el que utiliza kernel polinomico*"
      ]
    },
    {
      "cell_type": "markdown",
      "metadata": {
        "id": "DHBmMhtYQwH6"
      },
      "source": [
        "# Ejercicio 9\n",
        "* Utilizando el mejor SVM encontrar los parámetros que da el mejor rendimiento teniendo en cuenta los siguientes hiperparámetros\n",
        "'C': [0.1, 1, 10, 100, 1000], 'gamma': [0.01, 0.001, 0.0001]\n",
        "* Evalúe cada modelo con F1, AUC-ROC y log-loss\n",
        "\n",
        "Nota: Para los valores de C y gamma, deben realizar todas las posibles combinaciones entre estas dos variables."
      ]
    },
    {
      "cell_type": "code",
      "metadata": {
        "collapsed": true,
        "id": "3d6wqybPQwH8"
      },
      "source": [
        "c = [0.1, 1, 10, 100, 1000]\n",
        "Gama = [0.01, 0.001, 0.0001]\n",
        "\n",
        "F1 = []\n",
        "ROC = []\n",
        "LOG = []\n",
        "\n",
        "VC = []\n",
        "GAMA = []\n",
        "\n",
        "\n",
        "for i, j in itertools.product(c, Gama):\n",
        "\n",
        "    mod = svm.SVC(C = i, gamma = j, kernel = \"poly\")\n",
        "\n",
        "    mod.fit(X_train, y_train)\n",
        "\n",
        "    y_pre = mod.predict(X_test)\n",
        "\n",
        "    VF1 =  metrics.f1_score(y_test, y_pre)\n",
        "    VROC= metrics.roc_auc_score(y_test2, y_pre, average=None)\n",
        "    VLOG = metrics.log_loss(y_test, y_pre)\n",
        "\n",
        "\n",
        "    F1.append(VF1)\n",
        "    ROCappend(VROC)\n",
        "    LOG.append(VLOG)\n",
        "\n",
        "\n",
        "    VC.append(mod.C)\n",
        "    GAMA.append(mod.gamma)"
      ],
      "execution_count": null,
      "outputs": []
    },
    {
      "cell_type": "code",
      "metadata": {
        "id": "HaaM1YR1HGfb"
      },
      "source": [
        "combinaciones_parametros = pd.concat([pd.DataFrame(VC), pd.DataFrame(GAMA), pd.DataFrame(F1), pd.DataFrame(ROC), pd.DataFrame(LOG)], axis=1)\n",
        "combinaciones_parametros.columns = [\"Valor C\", \"Gamma\", \"F1\", \"AUC ROC\", \"LOG LOSS\"]\n",
        "print(combinaciones_parametros)"
      ],
      "execution_count": null,
      "outputs": []
    },
    {
      "cell_type": "code",
      "metadata": {
        "id": "82PYnuvAHeyf"
      },
      "source": [
        "# Mejor combinacion de hiperparametros\n",
        "mejor_combinaciones_parametros = GridSearchCV(estimator = mod, param_grid = dict(C = C, gamma = Gama))\n",
        "mejor_combinaciones_parametros.fit(X_train, y_train)\n",
        "print(mejor_combinaciones_parametros.best_params_)"
      ],
      "execution_count": null,
      "outputs": []
    },
    {
      "cell_type": "markdown",
      "metadata": {
        "id": "XjgVQ_WTQwH9"
      },
      "source": [
        "# Ejercicio 10\n",
        "\n",
        "Compare los resultados con todos los anteriores modelos y eliga ¿Cuál algoritmo con cuáles hiperparámetros es el que tiene mejor rendimiento según la puntuación F1, AUC-ROC y log-loss?"
      ]
    },
    {
      "cell_type": "markdown",
      "metadata": {
        "id": "mtQYF30fVPnF"
      },
      "source": []
    }
  ]
}